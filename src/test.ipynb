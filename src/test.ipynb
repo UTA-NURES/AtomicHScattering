{
 "cells": [
  {
   "cell_type": "code",
   "id": "initial_id",
   "metadata": {
    "collapsed": true,
    "ExecuteTime": {
     "end_time": "2025-08-02T17:23:09.489641Z",
     "start_time": "2025-08-02T17:23:09.440209Z"
    }
   },
   "source": [
    "\n",
    "from src.AtomicH import potentials"
   ],
   "outputs": [],
   "execution_count": 1
  },
  {
   "metadata": {
    "ExecuteTime": {
     "end_time": "2025-08-02T17:23:13.300650Z",
     "start_time": "2025-08-02T17:23:13.292097Z"
    }
   },
   "cell_type": "code",
   "source": "potentials.Silvera_Triplet(2)",
   "id": "790ede4062e3cffb",
   "outputs": [
    {
     "data": {
      "text/plain": [
       "np.float64(-1.0423159821269237e-21)"
      ]
     },
     "execution_count": 3,
     "metadata": {},
     "output_type": "execute_result"
    }
   ],
   "execution_count": 3
  },
  {
   "metadata": {},
   "cell_type": "code",
   "outputs": [],
   "execution_count": null,
   "source": "",
   "id": "903da7197fa2fef7"
  }
 ],
 "metadata": {
  "kernelspec": {
   "display_name": "Python 3",
   "language": "python",
   "name": "python3"
  },
  "language_info": {
   "codemirror_mode": {
    "name": "ipython",
    "version": 2
   },
   "file_extension": ".py",
   "mimetype": "text/x-python",
   "name": "python",
   "nbconvert_exporter": "python",
   "pygments_lexer": "ipython2",
   "version": "2.7.6"
  }
 },
 "nbformat": 4,
 "nbformat_minor": 5
}
