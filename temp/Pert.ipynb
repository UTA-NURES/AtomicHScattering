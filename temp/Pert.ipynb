{
 "cells": [
  {
   "metadata": {
    "ExecuteTime": {
     "end_time": "2025-08-06T15:22:25.925356Z",
     "start_time": "2025-08-06T15:22:25.921085Z"
    }
   },
   "cell_type": "code",
   "source": [
    "import sys\n",
    "sys.path.append(\"../src/\")\n",
    "sys.path.append(\"../src/AtomicT\")"
   ],
   "id": "4b54ea302f69d376",
   "outputs": [],
   "execution_count": 6
  },
  {
   "metadata": {
    "collapsed": true,
    "ExecuteTime": {
     "end_time": "2025-08-06T15:22:26.677164Z",
     "start_time": "2025-08-06T15:22:26.165598Z"
    }
   },
   "cell_type": "code",
   "source": [
    "\n",
    "import elastic\n",
    "import potentials\n",
    "import constants\n",
    "import spinexchange\n",
    "import dipolelosses\n",
    "import numpy as np\n",
    "import pylab as plt"
   ],
   "id": "initial_id",
   "outputs": [],
   "execution_count": 7
  },
  {
   "metadata": {},
   "cell_type": "code",
   "outputs": [],
   "execution_count": null,
   "source": "",
   "id": "4ced42c71984e09d"
  }
 ],
 "metadata": {
  "kernelspec": {
   "display_name": "Python 3",
   "language": "python",
   "name": "python3"
  },
  "language_info": {
   "codemirror_mode": {
    "name": "ipython",
    "version": 2
   },
   "file_extension": ".py",
   "mimetype": "text/x-python",
   "name": "python",
   "nbconvert_exporter": "python",
   "pygments_lexer": "ipython2",
   "version": "2.7.6"
  }
 },
 "nbformat": 4,
 "nbformat_minor": 5
}
