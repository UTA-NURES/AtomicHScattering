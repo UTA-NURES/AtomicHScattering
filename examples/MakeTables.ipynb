{
 "cells": [
  {
   "cell_type": "code",
   "id": "initial_id",
   "metadata": {
    "collapsed": true,
    "ExecuteTime": {
     "end_time": "2025-08-18T17:22:30.326580Z",
     "start_time": "2025-08-18T17:22:30.320461Z"
    }
   },
   "source": [
    "import sys\n",
    "\n",
    "sys.path.append(\"../src/\")\n",
    "sys.path.append(\"../src/AtomicH\")\n",
    "\n",
    "import pandas as pd\n",
    "import dipolelosses\n",
    "import potentials\n",
    "import constants\n",
    "import numpy as np\n",
    "import pylab as plt\n",
    "from dipolelosses import DipoleChannels"
   ],
   "outputs": [],
   "execution_count": 2
  },
  {
   "metadata": {
    "ExecuteTime": {
     "end_time": "2025-08-18T17:22:30.521881Z",
     "start_time": "2025-08-18T17:22:30.518793Z"
    }
   },
   "cell_type": "code",
   "source": [
    "AllBs   = []\n",
    "AllTs   = []\n",
    "AllPots = []\n",
    "AllCs   = []\n",
    "AllIso  = []\n",
    "AllG    = []\n",
    "AllSigma= []\n",
    "AllPots = []\n"
   ],
   "id": "5019fb77370c82b0",
   "outputs": [],
   "execution_count": 3
  },
  {
   "metadata": {
    "ExecuteTime": {
     "end_time": "2025-08-18T17:22:31.046639Z",
     "start_time": "2025-08-18T17:22:31.040459Z"
    }
   },
   "cell_type": "code",
   "source": [
    "amu=1.672621925e-27\n",
    "A = 1e-6 / (constants.BohrInAng*1e-10)**2 * np.sqrt(np.pi*amu/(16*constants.kb))\n",
    "def GToSigma(G,m,T):\n",
    "    return A*G*np.sqrt(m/T)"
   ],
   "id": "a3cef0d3e33bbdcb",
   "outputs": [],
   "execution_count": 4
  },
  {
   "metadata": {
    "jupyter": {
     "is_executing": true
    },
    "ExecuteTime": {
     "start_time": "2025-08-18T17:34:37.817058Z"
    }
   },
   "cell_type": "code",
   "source": [
    "B_values = np.logspace(-3,1,25)\n",
    "\n",
    "pot       = potentials.Silvera_Triplet\n",
    "\n",
    "PWaves=         [[0, 2],[0,4],[0,6],[2, 0],[2, 2],[2, 4],[2,6],[4,0],[4, 2],[4, 4],[4, 6],[6,0],[6,2],[6,4],[6,6],[6,8]]\n",
    "\n",
    "dms = [2,1,1,2,1]\n",
    "GVsB_T_Temp=[]\n",
    "GVsB_H_Temp=[]\n",
    "Ts=np.logspace(-3,2,6)\n",
    "for T in Ts:\n",
    "    GVsB_T=[]\n",
    "    GVsB_H=[]\n",
    "\n",
    "    for ci in range(0,len(DipoleChannels)):\n",
    "        c=DipoleChannels[ci]\n",
    "        print(\"Running channel \"+str(ci)+ \", Temp \"+str(T))\n",
    "        Gs=[]\n",
    "        for B in B_values:\n",
    "\n",
    "            gH=dipolelosses.GetSummedGFactor(c, B, constants.HydrogenConstants, T, pot, PWaves, dm=dms[ci], rhos=np.linspace(1e-9,0.75,2000))\n",
    "            gT=dipolelosses.GetSummedGFactor(c, B, constants.TritiumConstants, T,  pot, PWaves, dm=dms[ci], rhos=np.linspace(1e-9,0.75,2000))\n",
    "            sH=GToSigma(gH,1,T)\n",
    "            sT=GToSigma(gT,1,T)\n",
    "\n",
    "            AllCs.append(c)\n",
    "            AllBs.append(B)\n",
    "            AllTs.append(T)\n",
    "            AllIso.append(\"H\")\n",
    "            AllG.append(gH)\n",
    "            AllSigma.append(sH)\n",
    "            AllPots.append(\"Silvera\")\n",
    "\n",
    "            AllCs.append(c)\n",
    "            AllBs.append(B)\n",
    "            AllTs.append(T)\n",
    "            AllIso.append(\"T\")\n",
    "            AllG.append(gT)\n",
    "            AllSigma.append(sT)\n",
    "            AllPots.append(\"Silvera\")\n",
    "\n",
    "        df = pd.DataFrame({ 'Channel': AllCs,\n",
    "                            'B':AllBs,\n",
    "                            'T':AllTs,\n",
    "                            'Isotope':AllIso,\n",
    "                            'G':AllG,\n",
    "                            'sigma':AllSigma\n",
    "                           })\n",
    "        df.to_csv('out.csv')"
   ],
   "id": "fe00129f3e6f148",
   "outputs": [
    {
     "name": "stdout",
     "output_type": "stream",
     "text": [
      "Running channel 0, Temp 0.001\n"
     ]
    },
    {
     "name": "stderr",
     "output_type": "stream",
     "text": [
      "/Users/benjpjones/PycharmProjects/AtomicHScattering/examples/../src/AtomicH/dipolelosses.py:66: IntegrationWarning: The maximum number of subdivisions (50) has been achieved.\n",
      "  If increasing the limit yields no improvement it is advised to analyze \n",
      "  the integrand in order to determine the difficulties.  If the position of a \n",
      "  local difficulty can be determined (singularity, discontinuity) one will \n",
      "  probably gain from splitting up the interval and calling the integrator \n",
      "  on the subranges.  Perhaps a special-purpose integrator should be used.\n",
      "  Integral = quad(Integrand, rhos[0], rhos[-1])[0] / (P1 * P2)\n",
      "/Users/benjpjones/PycharmProjects/AtomicHScattering/examples/../src/AtomicH/spinbasis.py:283: RuntimeWarning: divide by zero encountered in matmul\n",
      "  Rets[m]=TransformMatrix(np.matmul(np.matmul(TripletProj,SigMatrix),TripletProj),Rotator)\n",
      "/Users/benjpjones/PycharmProjects/AtomicHScattering/examples/../src/AtomicH/spinbasis.py:283: RuntimeWarning: overflow encountered in matmul\n",
      "  Rets[m]=TransformMatrix(np.matmul(np.matmul(TripletProj,SigMatrix),TripletProj),Rotator)\n",
      "/Users/benjpjones/PycharmProjects/AtomicHScattering/examples/../src/AtomicH/spinbasis.py:283: RuntimeWarning: invalid value encountered in matmul\n",
      "  Rets[m]=TransformMatrix(np.matmul(np.matmul(TripletProj,SigMatrix),TripletProj),Rotator)\n",
      "/Users/benjpjones/PycharmProjects/AtomicHScattering/examples/../src/AtomicH/dipolelosses.py:66: IntegrationWarning: The occurrence of roundoff error is detected, which prevents \n",
      "  the requested tolerance from being achieved.  The error may be \n",
      "  underestimated.\n",
      "  Integral = quad(Integrand, rhos[0], rhos[-1])[0] / (P1 * P2)\n"
     ]
    }
   ],
   "execution_count": null
  },
  {
   "metadata": {},
   "cell_type": "code",
   "outputs": [],
   "execution_count": null,
   "source": "",
   "id": "5d50ae64050d621f"
  }
 ],
 "metadata": {
  "kernelspec": {
   "display_name": "Python 3",
   "language": "python",
   "name": "python3"
  },
  "language_info": {
   "codemirror_mode": {
    "name": "ipython",
    "version": 2
   },
   "file_extension": ".py",
   "mimetype": "text/x-python",
   "name": "python",
   "nbconvert_exporter": "python",
   "pygments_lexer": "ipython2",
   "version": "2.7.6"
  }
 },
 "nbformat": 4,
 "nbformat_minor": 5
}
