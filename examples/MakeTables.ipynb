{
 "cells": [
  {
   "cell_type": "code",
   "id": "initial_id",
   "metadata": {
    "collapsed": true,
    "ExecuteTime": {
     "end_time": "2025-08-19T02:29:41.401750Z",
     "start_time": "2025-08-19T02:29:41.398812Z"
    }
   },
   "source": [
    "import sys\n",
    "\n",
    "sys.path.append(\"../src/\")\n",
    "sys.path.append(\"../src/AtomicH\")\n",
    "\n",
    "import pandas as pd\n",
    "import dipolelosses\n",
    "import potentials\n",
    "import constants\n",
    "import spinexchange\n",
    "import numpy as np\n",
    "import pylab as plt\n",
    "from dipolelosses import DipoleChannels\n",
    "from spinexchange import SpinExChannels\n"
   ],
   "outputs": [],
   "execution_count": 6
  },
  {
   "metadata": {
    "ExecuteTime": {
     "end_time": "2025-08-19T02:29:01.530412Z",
     "start_time": "2025-08-19T02:29:01.529031Z"
    }
   },
   "cell_type": "code",
   "source": "\n",
   "id": "5019fb77370c82b0",
   "outputs": [],
   "execution_count": 1
  },
  {
   "metadata": {
    "ExecuteTime": {
     "end_time": "2025-08-19T02:29:01.577228Z",
     "start_time": "2025-08-19T02:29:01.574948Z"
    }
   },
   "cell_type": "code",
   "source": [
    "amu=1.672621925e-27\n",
    "A = 1e-6 / (constants.BohrInAng*1e-10)**2 * np.sqrt(np.pi*amu/(16*constants.kb))\n",
    "def GToSigma(G,m,T):\n",
    "    return A*G*np.sqrt(m/T)"
   ],
   "id": "a3cef0d3e33bbdcb",
   "outputs": [],
   "execution_count": 2
  },
  {
   "metadata": {
    "ExecuteTime": {
     "end_time": "2025-08-18T21:07:24.426599Z",
     "start_time": "2025-08-18T17:34:37.817058Z"
    }
   },
   "cell_type": "code",
   "source": [
    "AllBs   = []\n",
    "AllTs   = []\n",
    "AllPots = []\n",
    "AllCs   = []\n",
    "AllIso  = []\n",
    "AllG    = []\n",
    "AllSigma= []\n",
    "AllPots = []\n",
    "\n",
    "B_values = np.logspace(-3,1,25)\n",
    "pot       = potentials.Silvera_Triplet\n",
    "PWaves=         [[0, 2],[0,4],[0,6],[2, 0],[2, 2],[2, 4],[2,6],[4,0],[4, 2],[4, 4],[4, 6],[6,0],[6,2],[6,4],[6,6],[6,8]]\n",
    "Ts  = np.logspace(-3,2,6)\n",
    "dms = [2,1,1,2,1]\n",
    "\n",
    "\n",
    "\n",
    "for T in Ts:\n",
    "    for ci in range(0,len(DipoleChannels)):\n",
    "        c=DipoleChannels[ci]\n",
    "        print(\"Running channel \"+str(ci)+ \", Temp \"+str(T))\n",
    "        for B in B_values:\n",
    "\n",
    "            gH=dipolelosses.GetSummedGFactor(c, B, constants.HydrogenConstants, T, pot, PWaves, dm=dms[ci], rhos=np.linspace(1e-9,0.75,2000))\n",
    "            gT=dipolelosses.GetSummedGFactor(c, B, constants.TritiumConstants, T,  pot, PWaves, dm=dms[ci], rhos=np.linspace(1e-9,0.75,2000))\n",
    "            sH=GToSigma(gH,1,T)\n",
    "            sT=GToSigma(gT,1,T)\n",
    "\n",
    "            AllCs.append(c)\n",
    "            AllBs.append(B)\n",
    "            AllTs.append(T)\n",
    "            AllIso.append(\"H\")\n",
    "            AllG.append(gH)\n",
    "            AllSigma.append(sH)\n",
    "            AllPots.append(\"Silvera\")\n",
    "\n",
    "            AllCs.append(c)\n",
    "            AllBs.append(B)\n",
    "            AllTs.append(T)\n",
    "            AllIso.append(\"T\")\n",
    "            AllG.append(gT)\n",
    "            AllSigma.append(sT)\n",
    "            AllPots.append(\"Silvera\")\n",
    "\n",
    "        df = pd.DataFrame({ 'Channel': AllCs,\n",
    "                            'B':AllBs,\n",
    "                            'T':AllTs,\n",
    "                            'Isotope':AllIso,\n",
    "                            'G':AllG,\n",
    "                            'sigma':AllSigma\n",
    "                           })\n",
    "        df.to_csv('Tables/Silvera_Dipoles.csv')"
   ],
   "id": "fe00129f3e6f148",
   "outputs": [
    {
     "name": "stdout",
     "output_type": "stream",
     "text": [
      "Running channel 0, Temp 0.001\n"
     ]
    },
    {
     "name": "stderr",
     "output_type": "stream",
     "text": [
      "/Users/benjpjones/PycharmProjects/AtomicHScattering/examples/../src/AtomicH/dipolelosses.py:66: IntegrationWarning: The maximum number of subdivisions (50) has been achieved.\n",
      "  If increasing the limit yields no improvement it is advised to analyze \n",
      "  the integrand in order to determine the difficulties.  If the position of a \n",
      "  local difficulty can be determined (singularity, discontinuity) one will \n",
      "  probably gain from splitting up the interval and calling the integrator \n",
      "  on the subranges.  Perhaps a special-purpose integrator should be used.\n",
      "  Integral = quad(Integrand, rhos[0], rhos[-1])[0] / (P1 * P2)\n",
      "/Users/benjpjones/PycharmProjects/AtomicHScattering/examples/../src/AtomicH/spinbasis.py:283: RuntimeWarning: divide by zero encountered in matmul\n",
      "  Rets[m]=TransformMatrix(np.matmul(np.matmul(TripletProj,SigMatrix),TripletProj),Rotator)\n",
      "/Users/benjpjones/PycharmProjects/AtomicHScattering/examples/../src/AtomicH/spinbasis.py:283: RuntimeWarning: overflow encountered in matmul\n",
      "  Rets[m]=TransformMatrix(np.matmul(np.matmul(TripletProj,SigMatrix),TripletProj),Rotator)\n",
      "/Users/benjpjones/PycharmProjects/AtomicHScattering/examples/../src/AtomicH/spinbasis.py:283: RuntimeWarning: invalid value encountered in matmul\n",
      "  Rets[m]=TransformMatrix(np.matmul(np.matmul(TripletProj,SigMatrix),TripletProj),Rotator)\n",
      "/Users/benjpjones/PycharmProjects/AtomicHScattering/examples/../src/AtomicH/dipolelosses.py:66: IntegrationWarning: The occurrence of roundoff error is detected, which prevents \n",
      "  the requested tolerance from being achieved.  The error may be \n",
      "  underestimated.\n",
      "  Integral = quad(Integrand, rhos[0], rhos[-1])[0] / (P1 * P2)\n",
      "/Users/benjpjones/PycharmProjects/AtomicHScattering/examples/../src/AtomicH/dipolelosses.py:66: IntegrationWarning: The integral is probably divergent, or slowly convergent.\n",
      "  Integral = quad(Integrand, rhos[0], rhos[-1])[0] / (P1 * P2)\n"
     ]
    },
    {
     "name": "stdout",
     "output_type": "stream",
     "text": [
      "Running channel 1, Temp 0.001\n",
      "Running channel 2, Temp 0.001\n",
      "Running channel 3, Temp 0.001\n",
      "Running channel 4, Temp 0.001\n",
      "Running channel 0, Temp 0.01\n",
      "Running channel 1, Temp 0.01\n",
      "Running channel 2, Temp 0.01\n",
      "Running channel 3, Temp 0.01\n",
      "Running channel 4, Temp 0.01\n",
      "Running channel 0, Temp 0.1\n",
      "Running channel 1, Temp 0.1\n",
      "Running channel 2, Temp 0.1\n",
      "Running channel 3, Temp 0.1\n",
      "Running channel 4, Temp 0.1\n",
      "Running channel 0, Temp 1.0\n",
      "Running channel 1, Temp 1.0\n",
      "Running channel 2, Temp 1.0\n",
      "Running channel 3, Temp 1.0\n",
      "Running channel 4, Temp 1.0\n",
      "Running channel 0, Temp 10.0\n",
      "Running channel 1, Temp 10.0\n",
      "Running channel 2, Temp 10.0\n",
      "Running channel 3, Temp 10.0\n",
      "Running channel 4, Temp 10.0\n",
      "Running channel 0, Temp 100.0\n",
      "Running channel 1, Temp 100.0\n",
      "Running channel 2, Temp 100.0\n",
      "Running channel 3, Temp 100.0\n",
      "Running channel 4, Temp 100.0\n"
     ]
    }
   ],
   "execution_count": 9
  },
  {
   "metadata": {},
   "cell_type": "code",
   "outputs": [],
   "execution_count": null,
   "source": [
    "AllBs   = []\n",
    "AllTs   = []\n",
    "AllPots = []\n",
    "AllCs   = []\n",
    "AllIso  = []\n",
    "AllG    = []\n",
    "AllSigma= []\n",
    "AllPots = []\n",
    "\n",
    "B_values = np.logspace(-3,1,25)\n",
    "potT_T       = potentials.Jamieson_Triplet_HFD_T\n",
    "potT_H       = potentials.Jamieson_Triplet_HFD_H\n",
    "PWaves=         [[0, 2],[0,4],[0,6],[2, 0],[2, 2],[2, 4],[2,6],[4,0],[4, 2],[4, 4],[4, 6],[6,0],[6,2],[6,4],[6,6],[6,8]]\n",
    "Ts  = np.logspace(-3,2,6)\n",
    "dms = [2,1,1,2,1]\n",
    "\n",
    "\n",
    "\n",
    "for T in Ts:\n",
    "    for ci in range(0,len(DipoleChannels)):\n",
    "        c=DipoleChannels[ci]\n",
    "        print(\"Running channel \"+str(ci)+ \", Temp \"+str(T))\n",
    "        for B in B_values:\n",
    "\n",
    "            gH=dipolelosses.GetSummedGFactor(c, B, constants.HydrogenConstants, T, potT_H, PWaves, dm=dms[ci], rhos=np.linspace(1e-9,0.75,2000))\n",
    "            gT=dipolelosses.GetSummedGFactor(c, B, constants.TritiumConstants, T,  potT_T, PWaves, dm=dms[ci], rhos=np.linspace(1e-9,0.75,2000))\n",
    "            sH=GToSigma(gH,1,T)\n",
    "            sT=GToSigma(gT,1,T)\n",
    "\n",
    "            AllCs.append(c)\n",
    "            AllBs.append(B)\n",
    "            AllTs.append(T)\n",
    "            AllIso.append(\"H\")\n",
    "            AllG.append(gH)\n",
    "            AllSigma.append(sH)\n",
    "            AllPots.append(\"Jamieson\")\n",
    "\n",
    "            AllCs.append(c)\n",
    "            AllBs.append(B)\n",
    "            AllTs.append(T)\n",
    "            AllIso.append(\"T\")\n",
    "            AllG.append(gT)\n",
    "            AllSigma.append(sT)\n",
    "            AllPots.append(\"Jamieson\")\n",
    "\n",
    "        df = pd.DataFrame({ 'Channel': AllCs,\n",
    "                            'B':AllBs,\n",
    "                            'T':AllTs,\n",
    "                            'Isotope':AllIso,\n",
    "                            'G':AllG,\n",
    "                            'sigma':AllSigma\n",
    "                           })\n",
    "        df.to_csv('Tables/Jamieson_Dipoles.csv')"
   ],
   "id": "d560517bd3902227"
  },
  {
   "metadata": {
    "ExecuteTime": {
     "end_time": "2025-08-19T03:02:51.875561Z",
     "start_time": "2025-08-19T02:29:52.687599Z"
    }
   },
   "cell_type": "code",
   "source": [
    "AllBs   = []\n",
    "AllTs   = []\n",
    "AllPots = []\n",
    "AllCs   = []\n",
    "AllIso  = []\n",
    "AllG    = []\n",
    "AllSigma= []\n",
    "AllPots = []\n",
    "\n",
    "B_values = np.logspace(-3,1,25)\n",
    "potT       = potentials.Silvera_Triplet\n",
    "potS       = potentials.Jamieson_Singlet_VDW\n",
    "PWaves     = [0,2,4,6]\n",
    "Ts  = np.logspace(-3,2,6)\n",
    "\n",
    "\n",
    "\n",
    "for T in Ts:\n",
    "    for ci in range(0,len(SpinExChannels)):\n",
    "        c=SpinExChannels[ci]\n",
    "        print(\"Running channel \"+str(ci)+ \", Temp \"+str(T))\n",
    "        for B in B_values:\n",
    "\n",
    "            gH=spinexchange.GetSummedGFactor(c, B, constants.HydrogenConstants, T, potT,potS, PWaves, rhos=np.linspace(1e-9,0.75,2000))\n",
    "            gT=spinexchange.GetSummedGFactor(c, B, constants.TritiumConstants, T,  potT,potS, PWaves, rhos=np.linspace(1e-9,0.75,2000))\n",
    "            sH=GToSigma(gH,1,T)\n",
    "            sT=GToSigma(gT,1,T)\n",
    "\n",
    "            AllCs.append(c)\n",
    "            AllBs.append(B)\n",
    "            AllTs.append(T)\n",
    "            AllIso.append(\"H\")\n",
    "            AllG.append(gH)\n",
    "            AllSigma.append(sH)\n",
    "            AllPots.append(\"SilveraT_JamiesonS\")\n",
    "\n",
    "            AllCs.append(c)\n",
    "            AllBs.append(B)\n",
    "            AllTs.append(T)\n",
    "            AllIso.append(\"T\")\n",
    "            AllG.append(gT)\n",
    "            AllSigma.append(sT)\n",
    "            AllPots.append(\"SilveraT_JamiesonS\")\n",
    "\n",
    "        df = pd.DataFrame({ 'Channel': AllCs,\n",
    "                            'B':AllBs,\n",
    "                            'T':AllTs,\n",
    "                            'Isotope':AllIso,\n",
    "                            'G':AllG,\n",
    "                            'sigma':AllSigma\n",
    "                           })\n",
    "        df.to_csv('Tables/SilveraJamieson_SpinEx.csv')"
   ],
   "id": "5d50ae64050d621f",
   "outputs": [
    {
     "name": "stdout",
     "output_type": "stream",
     "text": [
      "Running channel 0, Temp 0.001\n",
      "Running channel 1, Temp 0.001\n",
      "Running channel 2, Temp 0.001\n",
      "Running channel 0, Temp 0.01\n",
      "Running channel 1, Temp 0.01\n",
      "Running channel 2, Temp 0.01\n",
      "Running channel 0, Temp 0.1\n",
      "Running channel 1, Temp 0.1\n",
      "Running channel 2, Temp 0.1\n",
      "Running channel 0, Temp 1.0\n",
      "Running channel 1, Temp 1.0\n",
      "Running channel 2, Temp 1.0\n",
      "Running channel 0, Temp 10.0\n",
      "Running channel 1, Temp 10.0\n",
      "Running channel 2, Temp 10.0\n",
      "Running channel 0, Temp 100.0\n",
      "Running channel 1, Temp 100.0\n",
      "Running channel 2, Temp 100.0\n"
     ]
    }
   ],
   "execution_count": 7
  },
  {
   "metadata": {
    "jupyter": {
     "is_executing": true
    },
    "ExecuteTime": {
     "start_time": "2025-08-19T03:17:09.392038Z"
    }
   },
   "cell_type": "code",
   "source": [
    "AllBs   = []\n",
    "AllTs   = []\n",
    "AllPots = []\n",
    "AllCs   = []\n",
    "AllIso  = []\n",
    "AllG    = []\n",
    "AllSigma= []\n",
    "AllPots = []\n",
    "\n",
    "B_values = np.logspace(-3,1,25)\n",
    "potT_T       = potentials.Jamieson_Triplet_HFD_T\n",
    "potT_H       = potentials.Jamieson_Triplet_HFD_H\n",
    "potS         = potentials.Jamieson_Singlet_VDW\n",
    "PWaves       = [0,2,4,6]\n",
    "Ts  = np.logspace(-3,2,6)\n",
    "\n",
    "\n",
    "\n",
    "for T in Ts:\n",
    "    for ci in range(0,len(SpinExChannels)):\n",
    "        c=SpinExChannels[ci]\n",
    "        print(\"Running channel \"+str(ci)+ \", Temp \"+str(T))\n",
    "        for B in B_values:\n",
    "\n",
    "            gH=spinexchange.GetSummedGFactor(c, B, constants.HydrogenConstants, T, potT_H,potS, PWaves, rhos=np.linspace(1e-9,0.75,2000))\n",
    "            gT=spinexchange.GetSummedGFactor(c, B, constants.TritiumConstants, T,  potT_T,potS, PWaves, rhos=np.linspace(1e-9,0.75,2000))\n",
    "            sH=GToSigma(gH,1,T)\n",
    "            sT=GToSigma(gT,1,T)\n",
    "\n",
    "            AllCs.append(c)\n",
    "            AllBs.append(B)\n",
    "            AllTs.append(T)\n",
    "            AllIso.append(\"H\")\n",
    "            AllG.append(gH)\n",
    "            AllSigma.append(sH)\n",
    "            AllPots.append(\"JamiesonT_JamiesonS\")\n",
    "\n",
    "            AllCs.append(c)\n",
    "            AllBs.append(B)\n",
    "            AllTs.append(T)\n",
    "            AllIso.append(\"T\")\n",
    "            AllG.append(gT)\n",
    "            AllSigma.append(sT)\n",
    "            AllPots.append(\"JamiesonT_JamiesonS\")\n",
    "\n",
    "        df = pd.DataFrame({ 'Channel': AllCs,\n",
    "                            'B':AllBs,\n",
    "                            'T':AllTs,\n",
    "                            'Isotope':AllIso,\n",
    "                            'G':AllG,\n",
    "                            'sigma':AllSigma\n",
    "                           })\n",
    "        df.to_csv('Tables/JamiesonJamieson_SpinEx.csv')"
   ],
   "id": "9a897b72b92047bc",
   "outputs": [
    {
     "name": "stdout",
     "output_type": "stream",
     "text": [
      "Running channel 0, Temp 0.001\n"
     ]
    }
   ],
   "execution_count": null
  },
  {
   "metadata": {},
   "cell_type": "code",
   "outputs": [],
   "execution_count": null,
   "source": "",
   "id": "6cb5eea93958c12"
  }
 ],
 "metadata": {
  "kernelspec": {
   "display_name": "Python 3",
   "language": "python",
   "name": "python3"
  },
  "language_info": {
   "codemirror_mode": {
    "name": "ipython",
    "version": 2
   },
   "file_extension": ".py",
   "mimetype": "text/x-python",
   "name": "python",
   "nbconvert_exporter": "python",
   "pygments_lexer": "ipython2",
   "version": "2.7.6"
  }
 },
 "nbformat": 4,
 "nbformat_minor": 5
}
